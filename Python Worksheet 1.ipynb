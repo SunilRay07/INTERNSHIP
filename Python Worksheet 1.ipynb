{
 "cells": [
  {
   "cell_type": "markdown",
   "id": "ce3639aa",
   "metadata": {},
   "source": [
    "# Python Worksheet 1"
   ]
  },
  {
   "cell_type": "raw",
   "id": "5c4661f6",
   "metadata": {},
   "source": [
    "Q1 to Q8 have only one correct answer. Choose the correct option to answer your question.\n",
    "\n",
    "1. Which of the following operators is used to calculate remainder in a division?\n",
    "\n",
    "Ans: C) %    . Example is below\n",
    "\n",
    "2. In python 2//3 is equal to?\n",
    "\n",
    "Ans: B) 0\n",
    "\n",
    "3. In python, 6<<2 is equal to?\n",
    "\n",
    "Ans: C) 24\n",
    "\n",
    "4. In python, 6&2 will give which of the following as output?\n",
    "\n",
    "Ans: A) 2\n",
    "\n",
    "5. In python, 6|2 will give which of the following as output?\n",
    "\n",
    "Ans: D) 6\n",
    "\n",
    "6. What does the finally keyword denotes in python?\n",
    "\n",
    "Ans: C) the finally block will be executed no matter if the try block raises an error or not.\n",
    "\n",
    "7. What does raise keyword is used for in python?\n",
    "\n",
    "Ans: A) It is used to raise an exception.\n",
    "\n",
    "\n",
    "8. Which of the following is a common use case of yield keyword in python?\n",
    "\n",
    "Ans: C) in defining a generator\n",
    "\n",
    "Q9 and Q10 have multiple correct answers. Choose all the correct options to answer your question.\n",
    "\n",
    "9. Which of the following are the valid variable names?\n",
    "\n",
    "Ans: A) _abc \n",
    "     B) 1abc\n",
    "     C) abc2\n",
    "     \n",
    "10. Which of the following are the keywords in python?\n",
    "\n",
    "Ans: A) yield \n",
    "     B) raise\n",
    "     \n",
    "Q11 to Q15 are programming questions. Answer them in Jupyter Notebook."
   ]
  },
  {
   "cell_type": "raw",
   "id": "dde63c37",
   "metadata": {},
   "source": [
    "11. Write a python program to find the factorial of a number.\n",
    "\n",
    "Ans: Python progra to find the factoria of a number is mentioned below:-"
   ]
  },
  {
   "cell_type": "code",
   "execution_count": 12,
   "id": "fb9b43aa",
   "metadata": {},
   "outputs": [
    {
     "name": "stdout",
     "output_type": "stream",
     "text": [
      "Enter Number :5\n",
      "Factorial of the number is = 120\n"
     ]
    }
   ],
   "source": [
    "i=int(input(\"Enter Number :\"))\n",
    "Factorial=1\n",
    "while(i>0):\n",
    "    Factorial=Factorial*i\n",
    "    i=i-1\n",
    "print(\"Factorial of the number is =\",Factorial)"
   ]
  },
  {
   "cell_type": "raw",
   "id": "bcd6483c",
   "metadata": {},
   "source": [
    "12. Write a python program to find whether a number is prime or composite.\n",
    "\n",
    "Ans: Python program to find whether a number is prime or composite is below:"
   ]
  },
  {
   "cell_type": "code",
   "execution_count": 21,
   "id": "fc25b393",
   "metadata": {},
   "outputs": [
    {
     "name": "stdout",
     "output_type": "stream",
     "text": [
      "Enter the no:0\n",
      "The number is neither Prime nor Composite\n"
     ]
    }
   ],
   "source": [
    "num=int(input(\"Enter the no:\"))\n",
    "count=0\n",
    "i=1\n",
    "while i<=num:\n",
    "    if num%i==0:\n",
    "        count=count+1\n",
    "    i=i+1\n",
    "if count==2:\n",
    "    print(\"Its a Prime Number:\")\n",
    "elif count>2:\n",
    "    print(\"Its a Composite Number\")\n",
    "else:\n",
    "    print(\"The number is neither Prime nor Composite\")\n",
    "    "
   ]
  },
  {
   "cell_type": "code",
   "execution_count": 24,
   "id": "4f07c87f",
   "metadata": {},
   "outputs": [
    {
     "name": "stdout",
     "output_type": "stream",
     "text": [
      "Enter String:hanah\n",
      "Palindrome String\n"
     ]
    }
   ],
   "source": [
    "#13. Write a python program to check whether a given string is palindrome or not.\n",
    "# Ans: Palindrome is a string when upon reversing is the same value\n",
    "\n",
    "a= input('Enter String:')\n",
    "b=a[-1::-1]\n",
    "if(a==b):\n",
    "    print('Palindrome String')\n",
    "else:\n",
    "    print('Not Palindrome String')\n"
   ]
  },
  {
   "cell_type": "code",
   "execution_count": 25,
   "id": "aea3ceb7",
   "metadata": {},
   "outputs": [
    {
     "name": "stdout",
     "output_type": "stream",
     "text": [
      "Input length of shorter triangle side:\n",
      "Enter a:10\n",
      "Enter b:5\n",
      "The third side of right-angled triangle is: 11.180339887498949\n"
     ]
    }
   ],
   "source": [
    "#14. Write a Python program to get the third side of right-angled triangle from two given sides.\n",
    "\n",
    "#Ans:\n",
    "from math import sqrt\n",
    "print(\"Input length of shorter triangle side:\")\n",
    "a=float(input(\"Enter a:\"))\n",
    "b=float(input(\"Enter b:\"))\n",
    "c=sqrt(a**2+b**2)\n",
    "print(\"The third side of right-angled triangle is:\",c)\n"
   ]
  },
  {
   "cell_type": "code",
   "execution_count": 28,
   "id": "fdbd80e8",
   "metadata": {},
   "outputs": [
    {
     "name": "stdout",
     "output_type": "stream",
     "text": [
      "Enter any String : sunilkumar\n",
      "Enter character to check frequency:u\n",
      "u occurs 2 time(s).\n"
     ]
    }
   ],
   "source": [
    "#15. Write a python program to print the frequency of each of the characters present in a given string.\n",
    "\n",
    "#Ans:\n",
    "string=input(\"Enter any String : \")\n",
    "c=input(\"Enter character to check frequency:\")\n",
    "count=0\n",
    "for i in string:\n",
    "    if i==c:\n",
    "        count+=1\n",
    "print(c,\"occurs\",count,\"time(s).\")"
   ]
  },
  {
   "cell_type": "code",
   "execution_count": null,
   "id": "43fd407b",
   "metadata": {},
   "outputs": [],
   "source": []
  },
  {
   "cell_type": "code",
   "execution_count": null,
   "id": "4b596047",
   "metadata": {},
   "outputs": [],
   "source": []
  },
  {
   "cell_type": "code",
   "execution_count": null,
   "id": "55d99ce4",
   "metadata": {},
   "outputs": [],
   "source": []
  },
  {
   "cell_type": "code",
   "execution_count": null,
   "id": "65604a5f",
   "metadata": {},
   "outputs": [],
   "source": []
  },
  {
   "cell_type": "code",
   "execution_count": null,
   "id": "fee39621",
   "metadata": {},
   "outputs": [],
   "source": []
  },
  {
   "cell_type": "code",
   "execution_count": null,
   "id": "65e8d6d1",
   "metadata": {},
   "outputs": [],
   "source": []
  },
  {
   "cell_type": "code",
   "execution_count": null,
   "id": "2c5f5f1d",
   "metadata": {},
   "outputs": [],
   "source": []
  },
  {
   "cell_type": "code",
   "execution_count": null,
   "id": "5ba2e77c",
   "metadata": {},
   "outputs": [],
   "source": []
  },
  {
   "cell_type": "code",
   "execution_count": null,
   "id": "946b1a4a",
   "metadata": {},
   "outputs": [],
   "source": []
  },
  {
   "cell_type": "code",
   "execution_count": null,
   "id": "df928052",
   "metadata": {},
   "outputs": [],
   "source": []
  },
  {
   "cell_type": "code",
   "execution_count": null,
   "id": "ac3e06a8",
   "metadata": {},
   "outputs": [],
   "source": []
  },
  {
   "cell_type": "code",
   "execution_count": null,
   "id": "ef3939ee",
   "metadata": {},
   "outputs": [],
   "source": []
  },
  {
   "cell_type": "code",
   "execution_count": null,
   "id": "a8b573a9",
   "metadata": {},
   "outputs": [],
   "source": []
  },
  {
   "cell_type": "code",
   "execution_count": null,
   "id": "0ff85279",
   "metadata": {},
   "outputs": [],
   "source": []
  },
  {
   "cell_type": "code",
   "execution_count": null,
   "id": "71a66c3b",
   "metadata": {},
   "outputs": [],
   "source": []
  },
  {
   "cell_type": "code",
   "execution_count": null,
   "id": "d0236d92",
   "metadata": {},
   "outputs": [],
   "source": []
  }
 ],
 "metadata": {
  "kernelspec": {
   "display_name": "Python 3 (ipykernel)",
   "language": "python",
   "name": "python3"
  },
  "language_info": {
   "codemirror_mode": {
    "name": "ipython",
    "version": 3
   },
   "file_extension": ".py",
   "mimetype": "text/x-python",
   "name": "python",
   "nbconvert_exporter": "python",
   "pygments_lexer": "ipython3",
   "version": "3.9.7"
  }
 },
 "nbformat": 4,
 "nbformat_minor": 5
}
